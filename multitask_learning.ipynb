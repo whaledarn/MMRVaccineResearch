{
  "nbformat": 4,
  "nbformat_minor": 0,
  "metadata": {
    "colab": {
      "name": "multitask learning.ipynb",
      "provenance": [],
      "collapsed_sections": [],
      "include_colab_link": true
    },
    "kernelspec": {
      "name": "python3",
      "display_name": "Python 3"
    }
  },
  "cells": [
    {
      "cell_type": "markdown",
      "metadata": {
        "id": "view-in-github",
        "colab_type": "text"
      },
      "source": [
        "<a href=\"https://colab.research.google.com/github/whaledarn/MMRVaccineResearch/blob/main/multitask_learning.ipynb\" target=\"_parent\"><img src=\"https://colab.research.google.com/assets/colab-badge.svg\" alt=\"Open In Colab\"/></a>"
      ]
    },
    {
      "cell_type": "code",
      "metadata": {
        "id": "53rsbd8qO9WG",
        "colab": {
          "resources": {
            "http://localhost:8080/nbextensions/google.colab/files.js": {
              "data": "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",
              "ok": true,
              "headers": [
                [
                  "content-type",
                  "application/javascript"
                ]
              ],
              "status": 200,
              "status_text": ""
            }
          },
          "base_uri": "https://localhost:8080/",
          "height": 74
        },
        "outputId": "4c0a7ef7-621b-46c5-948c-6d090b8f0ddb"
      },
      "source": [
        "from google.colab import files\n",
        "uploaded = files.upload()"
      ],
      "execution_count": null,
      "outputs": [
        {
          "output_type": "display_data",
          "data": {
            "text/html": [
              "\n",
              "     <input type=\"file\" id=\"files-9f1a2ca9-eb81-4c5d-98d6-8f4f0400899f\" name=\"files[]\" multiple disabled />\n",
              "     <output id=\"result-9f1a2ca9-eb81-4c5d-98d6-8f4f0400899f\">\n",
              "      Upload widget is only available when the cell has been executed in the\n",
              "      current browser session. Please rerun this cell to enable.\n",
              "      </output>\n",
              "      <script src=\"/nbextensions/google.colab/files.js\"></script> "
            ],
            "text/plain": [
              "<IPython.core.display.HTML object>"
            ]
          },
          "metadata": {
            "tags": []
          }
        },
        {
          "output_type": "stream",
          "text": [
            "Saving Data.xlsx to Data.xlsx\n"
          ],
          "name": "stdout"
        }
      ]
    },
    {
      "cell_type": "code",
      "metadata": {
        "id": "FVMb5z7ENU0p"
      },
      "source": [
        "from __future__ import absolute_import, division, print_function\n",
        "\n",
        "import tensorflow as tf\n",
        "from tensorflow import keras\n",
        "\n",
        "import numpy as np\n",
        "from numpy import array\n",
        "\n",
        "import os\n",
        "\n",
        "import matplotlib.pyplot as plt\n",
        "\n",
        "import pandas as pd\n",
        "import random\n",
        "\n",
        "from preproc import tokenize\n",
        "from keras.preprocessing.text import Tokenizer\n",
        "from keras.preprocessing.sequence import pad_sequences\n",
        "from sklearn.preprocessing import OneHotEncoder\n",
        "from sklearn.preprocessing import LabelEncoder\n",
        "\n",
        "from sklearn import metrics\n",
        "from sklearn.metrics import f1_score\n",
        "\n",
        "# reads files into program\n",
        "df = pd.read_excel(r'Tweets.xls')\n",
        "df2 = pd.read_excel(r'Data.xlsx')\n",
        "\n",
        "# creates a list for tweets, tone, type, and attitude\n",
        "tweets = list(df['Field'])\n",
        "tone = list(df2['tone/emotion'])\n",
        "type = list(df2['type of message'])\n",
        "attitude = list(df2['attitude toward vaccine'])\n",
        "# number of tweets\n",
        "length_of_data = 2997\n",
        "# seed for randomization\n",
        "seed = 50\n"
      ],
      "execution_count": null,
      "outputs": []
    },
    {
      "cell_type": "markdown",
      "metadata": {
        "id": "Bz27XlPjZ0EI"
      },
      "source": [
        "**Aligns each of the labels to its respective tweet and randomizes**"
      ]
    },
    {
      "cell_type": "code",
      "metadata": {
        "id": "_j8438xRXxFX"
      },
      "source": [
        "# tokenizes each tweet\n",
        "for i in range(0, length_of_data):\n",
        "    tweets[i] = tokenize(tweets[i])\n",
        "# maps each tweet to its respective labels and shuffles\n",
        "mapped = zip(tweets, tone, type, attitude)\n",
        "mapped = list(mapped)\n",
        "\n",
        "random.seed(seed)\n",
        "random.shuffle(mapped)\n",
        "\n",
        "#unzips the map and sets each dataset to its own list\n",
        "train_tweets, train_tone, train_type, train_attitude = zip(*mapped[:2100])\n",
        "validation_tweets, validation_tone, validation_type, validation_attitude = zip(*mapped[2100:2400])\n",
        "testing_tweets, testing_tone, testing_type, testing_attitude = zip(*mapped[2400:])"
      ],
      "execution_count": null,
      "outputs": []
    },
    {
      "cell_type": "markdown",
      "metadata": {
        "id": "VA4WhI-vI3js"
      },
      "source": [
        "**Preprocessing the labels**"
      ]
    },
    {
      "cell_type": "code",
      "metadata": {
        "id": "q3LXhz7TI6jQ"
      },
      "source": [
        "# preprocesses the labels we are testing on\n",
        "\n",
        "values = array(train_attitude)\n",
        "label_encoder = LabelEncoder()\n",
        "integer_encoded = label_encoder.fit_transform(values)\n",
        "onehot_encoder = OneHotEncoder(sparse=False)\n",
        "integer_encoded = integer_encoded.reshape(len(integer_encoded), 1)\n",
        "onehot_encoded = onehot_encoder.fit_transform(integer_encoded)\n",
        "train_attitude = onehot_encoded\n",
        "\n",
        "values = array(validation_attitude)\n",
        "label_encoder = LabelEncoder()\n",
        "integer_encoded = label_encoder.fit_transform(values)\n",
        "onehot_encoder = OneHotEncoder(sparse=False)\n",
        "integer_encoded = integer_encoded.reshape(len(integer_encoded), 1)\n",
        "onehot_encoded = onehot_encoder.fit_transform(integer_encoded)\n",
        "validation_attitude = onehot_encoded\n",
        "\n",
        "values = array(testing_attitude)\n",
        "label_encoder = LabelEncoder()\n",
        "integer_encoded = label_encoder.fit_transform(values)\n",
        "onehot_encoder = OneHotEncoder(sparse=False)\n",
        "integer_encoded = integer_encoded.reshape(len(integer_encoded), 1)\n",
        "onehot_encoded = onehot_encoder.fit_transform(integer_encoded)\n",
        "testing_attitude = onehot_encoded\n",
        "\n",
        "\n",
        "\n",
        "\n",
        "\n",
        "values = array(train_tone)\n",
        "label_encoder = LabelEncoder()\n",
        "integer_encoded = label_encoder.fit_transform(values)\n",
        "onehot_encoder = OneHotEncoder(sparse=False)\n",
        "integer_encoded = integer_encoded.reshape(len(integer_encoded), 1)\n",
        "onehot_encoded = onehot_encoder.fit_transform(integer_encoded)\n",
        "train_tone = onehot_encoded\n",
        "\n",
        "values = array(validation_tone)\n",
        "label_encoder = LabelEncoder()\n",
        "integer_encoded = label_encoder.fit_transform(values)\n",
        "onehot_encoder = OneHotEncoder(sparse=False)\n",
        "integer_encoded = integer_encoded.reshape(len(integer_encoded), 1)\n",
        "onehot_encoded = onehot_encoder.fit_transform(integer_encoded)\n",
        "validation_tone = onehot_encoded\n",
        "\n",
        "values = array(testing_tone)\n",
        "label_encoder = LabelEncoder()\n",
        "integer_encoded = label_encoder.fit_transform(values)\n",
        "onehot_encoder = OneHotEncoder(sparse=False)\n",
        "integer_encoded = integer_encoded.reshape(len(integer_encoded), 1)\n",
        "onehot_encoded = onehot_encoder.fit_transform(integer_encoded)\n",
        "testing_tone = onehot_encoded\n",
        "\n",
        "\n",
        "\n",
        "\n",
        "\n",
        "values = array(train_type)\n",
        "label_encoder = LabelEncoder()\n",
        "integer_encoded = label_encoder.fit_transform(values)\n",
        "onehot_encoder = OneHotEncoder(sparse=False)\n",
        "integer_encoded = integer_encoded.reshape(len(integer_encoded), 1)\n",
        "onehot_encoded = onehot_encoder.fit_transform(integer_encoded)\n",
        "train_type = onehot_encoded\n",
        "\n",
        "values = array(validation_type)\n",
        "label_encoder = LabelEncoder()\n",
        "integer_encoded = label_encoder.fit_transform(values)\n",
        "onehot_encoder = OneHotEncoder(sparse=False)\n",
        "integer_encoded = integer_encoded.reshape(len(integer_encoded), 1)\n",
        "onehot_encoded = onehot_encoder.fit_transform(integer_encoded)\n",
        "validation_type = onehot_encoded\n",
        "\n",
        "values = array(testing_type)\n",
        "label_encoder = LabelEncoder()\n",
        "integer_encoded = label_encoder.fit_transform(values)\n",
        "onehot_encoder = OneHotEncoder(sparse=False)\n",
        "integer_encoded = integer_encoded.reshape(len(integer_encoded), 1)\n",
        "onehot_encoded = onehot_encoder.fit_transform(integer_encoded)\n",
        "testing_type = onehot_encoded\n",
        "\n"
      ],
      "execution_count": null,
      "outputs": []
    },
    {
      "cell_type": "markdown",
      "metadata": {
        "id": "kxFrV63xZ4gU"
      },
      "source": [
        "**Preprocessing the data for the model**"
      ]
    },
    {
      "cell_type": "code",
      "metadata": {
        "id": "yaMcSVtAX_Kk"
      },
      "source": [
        "\n",
        "#preprocesses the tweets\n",
        "tokenizer = Tokenizer(num_words=10000)\n",
        "tokenizer.fit_on_texts(train_tweets)\n",
        "train_tweets = tokenizer.texts_to_sequences(train_tweets)\n",
        "validation_tweets = tokenizer.texts_to_sequences(validation_tweets)\n",
        "testing_tweets = tokenizer.texts_to_sequences(testing_tweets)\n",
        "\n",
        "vocab_size = len(tokenizer.word_index) + 1\n",
        "\n",
        "# A dictionary mapping words to an integer index\n",
        "word_index = tokenizer.word_index\n",
        "\n",
        "# The first indices are reserved\n",
        "word_index = {k:(v+3) for k,v in word_index.items()} \n",
        "word_index[\"<PAD>\"] = 0\n",
        "word_index[\"<START>\"] = 1\n",
        "word_index[\"<UNK>\"] = 2  # unknown\n",
        "word_index[\"<UNUSED>\"] = 3\n",
        "\n",
        "reverse_word_index = dict([(value, key) for (key, value) in word_index.items()])\n",
        "# turns the decoded tweets back to its original tweet\n",
        "def decode_review(text):\n",
        "    return ' '.join([reverse_word_index.get(i, '?') for i in text])\n",
        "\n",
        "# preprocesses the data\n",
        "train_data = keras.preprocessing.sequence.pad_sequences(train_tweets,\n",
        "                                                        value=word_index[\"<PAD>\"],\n",
        "                                                        padding='post',\n",
        "                                                        maxlen=50)\n",
        "\n",
        "valid_data = keras.preprocessing.sequence.pad_sequences(validation_tweets,\n",
        "                                                       value=word_index[\"<PAD>\"],\n",
        "                                                       padding='post',\n",
        "                                                       maxlen=50)\n",
        "testing_data = keras.preprocessing.sequence.pad_sequences(testing_tweets,\n",
        "                                                       value=word_index[\"<PAD>\"],\n",
        "                                                       padding='post',\n",
        "                                                       maxlen=50)"
      ],
      "execution_count": null,
      "outputs": []
    },
    {
      "cell_type": "markdown",
      "metadata": {
        "id": "jF7fbrQVaD5g"
      },
      "source": [
        "**The actual model**"
      ]
    },
    {
      "cell_type": "code",
      "metadata": {
        "id": "-mG7cfU7NyIj",
        "outputId": "1fe8aa6c-0612-44bd-e712-c78486349f65",
        "colab": {
          "base_uri": "https://localhost:8080/",
          "height": 1000
        }
      },
      "source": [
        "from keras.layers import Reshape, Flatten, Dropout, Concatenate, Input, Embedding, Conv2D, MaxPool2D, Dense\n",
        "from keras.callbacks import ModelCheckpoint\n",
        "from keras.optimizers import Adam\n",
        "from keras.models import Model\n",
        "from sklearn.model_selection import train_test_split\n",
        "\n",
        "\n",
        "sequence_length = 50 # 50\n",
        "vocabulary_size = 4327 # 2100\n",
        "embedding_dim = 128\n",
        "filter_sizes = [5,6,7]\n",
        "num_filters = 128\n",
        "drop = 0.7\n",
        "\n",
        "epochs = 17\n",
        "batch_size = 128\n",
        "\n",
        "# this returns a tensor\n",
        "print(\"Creating Model...\")\n",
        "inputs = Input(shape=(sequence_length,), dtype='int32')\n",
        "embedding = Embedding(input_dim=vocabulary_size, output_dim=embedding_dim, input_length=sequence_length)(inputs)\n",
        "reshape = Reshape((sequence_length,embedding_dim,1))(embedding)\n",
        "\n",
        "conv_0 = Conv2D(num_filters, kernel_size=(filter_sizes[0], embedding_dim), padding='valid', kernel_initializer='normal', activation='relu')(reshape)\n",
        "conv_1 = Conv2D(num_filters, kernel_size=(filter_sizes[1], embedding_dim), padding='valid', kernel_initializer='normal', activation='relu')(reshape)\n",
        "conv_2 = Conv2D(num_filters, kernel_size=(filter_sizes[2], embedding_dim), padding='valid', kernel_initializer='normal', activation='relu')(reshape)\n",
        "  \n",
        "maxpool_0 = MaxPool2D(pool_size=(sequence_length - filter_sizes[0] + 1, 1), strides=(1,1), padding='valid')(conv_0)\n",
        "maxpool_1 = MaxPool2D(pool_size=(sequence_length - filter_sizes[1] + 1, 1), strides=(1,1), padding='valid')(conv_1)\n",
        "maxpool_2 = MaxPool2D(pool_size=(sequence_length - filter_sizes[2] + 1, 1), strides=(1,1), padding='valid')(conv_2)\n",
        "\n",
        "concatenated_tensor = Concatenate(axis=1)([maxpool_0, maxpool_1, maxpool_2])\n",
        "flatten = Flatten()(concatenated_tensor)\n",
        "dropout = Dropout(drop)(flatten)\n",
        "\n",
        "dense_combined = Dense(units=70, activation='relu')(dropout)\n",
        "\n",
        "\n",
        "dense1 = Dense(units=40, activation='relu')(dropout)\n",
        "dense2 = Dense(units=40, activation='relu')(dropout)\n",
        "dense3 = Dense(units=40, activation='relu')(dropout)\n",
        "\n",
        "output1 = Dense(units=3, activation='softmax', name = 'attitude')(dense1)\n",
        "output2 = Dense(units=6, activation='softmax', name = 'tone')(dense2)\n",
        "output3 = Dense(units=6, activation='softmax', name = 'type')(dense3)\n",
        "# this creates a model that includes\n",
        "model = Model(inputs=inputs, outputs=[output1, output2, output3])\n",
        "\n",
        "adam = Adam(lr=1e-3, beta_1=0.9, beta_2=0.999, epsilon=1e-08, decay=0.0)\n",
        "\n",
        "model.compile(optimizer=adam, loss=['categorical_crossentropy','categorical_crossentropy', 'categorical_crossentropy'], metrics=['accuracy'], loss_weights = [1,1,1])\n",
        "\n",
        "print(\"Traning Model...\")\n",
        "history = model.fit(train_data, [train_attitude, train_tone, train_type] , batch_size=batch_size, epochs=epochs, verbose=1, validation_data=(valid_data, [validation_attitude, validation_tone, validation_type])) \n",
        "print(\"Trained!\")"
      ],
      "execution_count": null,
      "outputs": [
        {
          "output_type": "stream",
          "text": [
            "Creating Model...\n",
            "WARNING:tensorflow:From /usr/local/lib/python3.6/dist-packages/keras/backend/tensorflow_backend.py:66: The name tf.get_default_graph is deprecated. Please use tf.compat.v1.get_default_graph instead.\n",
            "\n",
            "WARNING:tensorflow:From /usr/local/lib/python3.6/dist-packages/keras/backend/tensorflow_backend.py:541: The name tf.placeholder is deprecated. Please use tf.compat.v1.placeholder instead.\n",
            "\n",
            "WARNING:tensorflow:From /usr/local/lib/python3.6/dist-packages/keras/backend/tensorflow_backend.py:4432: The name tf.random_uniform is deprecated. Please use tf.random.uniform instead.\n",
            "\n",
            "WARNING:tensorflow:From /usr/local/lib/python3.6/dist-packages/keras/backend/tensorflow_backend.py:4409: The name tf.random_normal is deprecated. Please use tf.random.normal instead.\n",
            "\n",
            "WARNING:tensorflow:From /usr/local/lib/python3.6/dist-packages/keras/backend/tensorflow_backend.py:4267: The name tf.nn.max_pool is deprecated. Please use tf.nn.max_pool2d instead.\n",
            "\n",
            "WARNING:tensorflow:From /usr/local/lib/python3.6/dist-packages/keras/backend/tensorflow_backend.py:148: The name tf.placeholder_with_default is deprecated. Please use tf.compat.v1.placeholder_with_default instead.\n",
            "\n",
            "WARNING:tensorflow:From /usr/local/lib/python3.6/dist-packages/keras/backend/tensorflow_backend.py:3733: calling dropout (from tensorflow.python.ops.nn_ops) with keep_prob is deprecated and will be removed in a future version.\n",
            "Instructions for updating:\n",
            "Please use `rate` instead of `keep_prob`. Rate should be set to `rate = 1 - keep_prob`.\n",
            "WARNING:tensorflow:Large dropout rate: 0.7 (>0.5). In TensorFlow 2.x, dropout() uses dropout rate instead of keep_prob. Please ensure that this is intended.\n",
            "WARNING:tensorflow:From /usr/local/lib/python3.6/dist-packages/keras/optimizers.py:793: The name tf.train.Optimizer is deprecated. Please use tf.compat.v1.train.Optimizer instead.\n",
            "\n",
            "WARNING:tensorflow:From /usr/local/lib/python3.6/dist-packages/keras/backend/tensorflow_backend.py:3576: The name tf.log is deprecated. Please use tf.math.log instead.\n",
            "\n",
            "Traning Model...\n",
            "WARNING:tensorflow:From /usr/local/lib/python3.6/dist-packages/tensorflow_core/python/ops/math_grad.py:1424: where (from tensorflow.python.ops.array_ops) is deprecated and will be removed in a future version.\n",
            "Instructions for updating:\n",
            "Use tf.where in 2.0, which has the same broadcast rule as np.where\n",
            "WARNING:tensorflow:From /usr/local/lib/python3.6/dist-packages/keras/backend/tensorflow_backend.py:1033: The name tf.assign_add is deprecated. Please use tf.compat.v1.assign_add instead.\n",
            "\n",
            "WARNING:tensorflow:From /usr/local/lib/python3.6/dist-packages/keras/backend/tensorflow_backend.py:1020: The name tf.assign is deprecated. Please use tf.compat.v1.assign instead.\n",
            "\n",
            "WARNING:tensorflow:From /usr/local/lib/python3.6/dist-packages/keras/backend/tensorflow_backend.py:3005: The name tf.Session is deprecated. Please use tf.compat.v1.Session instead.\n",
            "\n",
            "Train on 2100 samples, validate on 300 samples\n",
            "Epoch 1/17\n",
            "WARNING:tensorflow:From /usr/local/lib/python3.6/dist-packages/keras/backend/tensorflow_backend.py:190: The name tf.get_default_session is deprecated. Please use tf.compat.v1.get_default_session instead.\n",
            "\n",
            "WARNING:tensorflow:From /usr/local/lib/python3.6/dist-packages/keras/backend/tensorflow_backend.py:197: The name tf.ConfigProto is deprecated. Please use tf.compat.v1.ConfigProto instead.\n",
            "\n",
            "WARNING:tensorflow:From /usr/local/lib/python3.6/dist-packages/keras/backend/tensorflow_backend.py:207: The name tf.global_variables is deprecated. Please use tf.compat.v1.global_variables instead.\n",
            "\n",
            "WARNING:tensorflow:From /usr/local/lib/python3.6/dist-packages/keras/backend/tensorflow_backend.py:216: The name tf.is_variable_initialized is deprecated. Please use tf.compat.v1.is_variable_initialized instead.\n",
            "\n",
            "WARNING:tensorflow:From /usr/local/lib/python3.6/dist-packages/keras/backend/tensorflow_backend.py:223: The name tf.variables_initializer is deprecated. Please use tf.compat.v1.variables_initializer instead.\n",
            "\n",
            "2100/2100 [==============================] - 7s 3ms/step - loss: 4.0442 - attitude_loss: 0.9181 - tone_loss: 1.5675 - type_loss: 1.5587 - attitude_acc: 0.5819 - tone_acc: 0.4548 - type_acc: 0.3267 - val_loss: 3.3577 - val_attitude_loss: 0.8630 - val_tone_loss: 1.2301 - val_type_loss: 1.2646 - val_attitude_acc: 0.5567 - val_tone_acc: 0.6200 - val_type_acc: 0.4400\n",
            "Epoch 2/17\n",
            "2100/2100 [==============================] - 6s 3ms/step - loss: 3.3427 - attitude_loss: 0.8437 - tone_loss: 1.2556 - type_loss: 1.2435 - attitude_acc: 0.5805 - tone_acc: 0.5910 - type_acc: 0.4652 - val_loss: 3.1995 - val_attitude_loss: 0.8397 - val_tone_loss: 1.1567 - val_type_loss: 1.2031 - val_attitude_acc: 0.5567 - val_tone_acc: 0.6200 - val_type_acc: 0.5800\n",
            "Epoch 3/17\n",
            "2100/2100 [==============================] - 6s 3ms/step - loss: 3.1423 - attitude_loss: 0.8126 - tone_loss: 1.1682 - type_loss: 1.1615 - attitude_acc: 0.6105 - tone_acc: 0.6076 - type_acc: 0.5505 - val_loss: 2.9874 - val_attitude_loss: 0.8068 - val_tone_loss: 1.0833 - val_type_loss: 1.0973 - val_attitude_acc: 0.5700 - val_tone_acc: 0.6467 - val_type_acc: 0.5867\n",
            "Epoch 4/17\n",
            "2100/2100 [==============================] - 6s 3ms/step - loss: 2.9087 - attitude_loss: 0.7551 - tone_loss: 1.0976 - type_loss: 1.0560 - attitude_acc: 0.6557 - tone_acc: 0.6238 - type_acc: 0.6014 - val_loss: 2.7981 - val_attitude_loss: 0.7494 - val_tone_loss: 1.0418 - val_type_loss: 1.0070 - val_attitude_acc: 0.6867 - val_tone_acc: 0.6533 - val_type_acc: 0.6067\n",
            "Epoch 5/17\n",
            "2100/2100 [==============================] - 6s 3ms/step - loss: 2.6206 - attitude_loss: 0.6589 - tone_loss: 1.0348 - type_loss: 0.9269 - attitude_acc: 0.7538 - tone_acc: 0.6462 - type_acc: 0.6462 - val_loss: 2.6099 - val_attitude_loss: 0.6930 - val_tone_loss: 1.0068 - val_type_loss: 0.9101 - val_attitude_acc: 0.6667 - val_tone_acc: 0.6667 - val_type_acc: 0.6500\n",
            "Epoch 6/17\n",
            "2100/2100 [==============================] - 6s 3ms/step - loss: 2.3200 - attitude_loss: 0.5396 - tone_loss: 0.9764 - type_loss: 0.8040 - attitude_acc: 0.7967 - tone_acc: 0.6600 - type_acc: 0.7010 - val_loss: 2.5185 - val_attitude_loss: 0.6411 - val_tone_loss: 0.9835 - val_type_loss: 0.8939 - val_attitude_acc: 0.7100 - val_tone_acc: 0.6700 - val_type_acc: 0.6733\n",
            "Epoch 7/17\n",
            "2100/2100 [==============================] - 6s 3ms/step - loss: 2.0510 - attitude_loss: 0.4380 - tone_loss: 0.9131 - type_loss: 0.6999 - attitude_acc: 0.8429 - tone_acc: 0.6757 - type_acc: 0.7648 - val_loss: 2.4735 - val_attitude_loss: 0.6364 - val_tone_loss: 0.9699 - val_type_loss: 0.8672 - val_attitude_acc: 0.7200 - val_tone_acc: 0.6733 - val_type_acc: 0.6700\n",
            "Epoch 8/17\n",
            "2100/2100 [==============================] - 6s 3ms/step - loss: 1.8292 - attitude_loss: 0.3626 - tone_loss: 0.8605 - type_loss: 0.6061 - attitude_acc: 0.8671 - tone_acc: 0.6900 - type_acc: 0.7852 - val_loss: 2.4898 - val_attitude_loss: 0.6530 - val_tone_loss: 0.9589 - val_type_loss: 0.8779 - val_attitude_acc: 0.7133 - val_tone_acc: 0.6800 - val_type_acc: 0.6933\n",
            "Epoch 9/17\n",
            "2100/2100 [==============================] - 6s 3ms/step - loss: 1.6109 - attitude_loss: 0.2864 - tone_loss: 0.7982 - type_loss: 0.5263 - attitude_acc: 0.8995 - tone_acc: 0.7052 - type_acc: 0.8386 - val_loss: 2.5040 - val_attitude_loss: 0.6855 - val_tone_loss: 0.9473 - val_type_loss: 0.8712 - val_attitude_acc: 0.7267 - val_tone_acc: 0.6867 - val_type_acc: 0.7100\n",
            "Epoch 10/17\n",
            "2100/2100 [==============================] - 6s 3ms/step - loss: 1.4445 - attitude_loss: 0.2636 - tone_loss: 0.7319 - type_loss: 0.4491 - attitude_acc: 0.8995 - tone_acc: 0.7362 - type_acc: 0.8657 - val_loss: 2.5385 - val_attitude_loss: 0.7419 - val_tone_loss: 0.9309 - val_type_loss: 0.8657 - val_attitude_acc: 0.7133 - val_tone_acc: 0.6933 - val_type_acc: 0.7167\n",
            "Epoch 11/17\n",
            "2100/2100 [==============================] - 6s 3ms/step - loss: 1.2834 - attitude_loss: 0.2118 - tone_loss: 0.6708 - type_loss: 0.4008 - attitude_acc: 0.9238 - tone_acc: 0.7538 - type_acc: 0.8829 - val_loss: 2.5515 - val_attitude_loss: 0.7546 - val_tone_loss: 0.9227 - val_type_loss: 0.8743 - val_attitude_acc: 0.7400 - val_tone_acc: 0.6967 - val_type_acc: 0.7233\n",
            "Epoch 12/17\n",
            "2100/2100 [==============================] - 6s 3ms/step - loss: 1.1343 - attitude_loss: 0.1802 - tone_loss: 0.6095 - type_loss: 0.3446 - attitude_acc: 0.9348 - tone_acc: 0.7848 - type_acc: 0.8995 - val_loss: 2.5930 - val_attitude_loss: 0.7753 - val_tone_loss: 0.9176 - val_type_loss: 0.9001 - val_attitude_acc: 0.7500 - val_tone_acc: 0.7067 - val_type_acc: 0.7233\n",
            "Epoch 13/17\n",
            "2100/2100 [==============================] - 6s 3ms/step - loss: 1.0251 - attitude_loss: 0.1659 - tone_loss: 0.5412 - type_loss: 0.3180 - attitude_acc: 0.9410 - tone_acc: 0.8114 - type_acc: 0.9005 - val_loss: 2.7025 - val_attitude_loss: 0.8150 - val_tone_loss: 0.9495 - val_type_loss: 0.9380 - val_attitude_acc: 0.7467 - val_tone_acc: 0.6933 - val_type_acc: 0.7100\n",
            "Epoch 14/17\n",
            "2100/2100 [==============================] - 6s 3ms/step - loss: 0.9206 - attitude_loss: 0.1499 - tone_loss: 0.4843 - type_loss: 0.2864 - attitude_acc: 0.9476 - tone_acc: 0.8276 - type_acc: 0.9062 - val_loss: 2.7446 - val_attitude_loss: 0.8134 - val_tone_loss: 0.9938 - val_type_loss: 0.9374 - val_attitude_acc: 0.7533 - val_tone_acc: 0.7133 - val_type_acc: 0.7333\n",
            "Epoch 15/17\n",
            "2100/2100 [==============================] - 6s 3ms/step - loss: 0.8129 - attitude_loss: 0.1280 - tone_loss: 0.4281 - type_loss: 0.2568 - attitude_acc: 0.9638 - tone_acc: 0.8529 - type_acc: 0.9210 - val_loss: 2.8076 - val_attitude_loss: 0.8307 - val_tone_loss: 0.9955 - val_type_loss: 0.9814 - val_attitude_acc: 0.7533 - val_tone_acc: 0.7100 - val_type_acc: 0.7067\n",
            "Epoch 16/17\n",
            "2100/2100 [==============================] - 6s 3ms/step - loss: 0.7268 - attitude_loss: 0.1114 - tone_loss: 0.3836 - type_loss: 0.2318 - attitude_acc: 0.9638 - tone_acc: 0.8671 - type_acc: 0.9267 - val_loss: 2.9012 - val_attitude_loss: 0.8569 - val_tone_loss: 1.0251 - val_type_loss: 1.0192 - val_attitude_acc: 0.7633 - val_tone_acc: 0.6933 - val_type_acc: 0.7100\n",
            "Epoch 17/17\n",
            "2100/2100 [==============================] - 6s 3ms/step - loss: 0.6618 - attitude_loss: 0.1048 - tone_loss: 0.3419 - type_loss: 0.2151 - attitude_acc: 0.9676 - tone_acc: 0.8843 - type_acc: 0.9305 - val_loss: 2.9760 - val_attitude_loss: 0.8990 - val_tone_loss: 1.0417 - val_type_loss: 1.0352 - val_attitude_acc: 0.7633 - val_tone_acc: 0.6967 - val_type_acc: 0.7200\n",
            "Trained!\n"
          ],
          "name": "stdout"
        }
      ]
    },
    {
      "cell_type": "markdown",
      "metadata": {
        "id": "XIwEJuPkKOJ9"
      },
      "source": [
        "**Shows History of Training and Validation Sets**"
      ]
    },
    {
      "cell_type": "code",
      "metadata": {
        "id": "MGAS6H90v7ZW",
        "outputId": "cb1bb58e-336b-41db-a751-2bf11a6183b6",
        "colab": {
          "base_uri": "https://localhost:8080/",
          "height": 573
        }
      },
      "source": [
        "history_dict = history.history\n",
        "history_dict.keys()\n",
        "\n",
        "acc = history_dict['attitude_acc']\n",
        "val_acc = history_dict['val_attitude_acc']\n",
        "loss = history_dict['attitude_loss']\n",
        "val_loss = history_dict['val_attitude_loss']\n",
        "\n",
        "epochs = range(1, len(acc) + 1)\n",
        "\n",
        "# \"bo\" is for \"blue dot\"\n",
        "plt.plot(epochs, loss, 'bo', label='Training loss')\n",
        "# b is for \"solid blue line\"\n",
        "plt.plot(epochs, val_loss, 'b', label='Validation loss')\n",
        "plt.title('Training and validation loss')\n",
        "plt.xlabel('Epochs')\n",
        "plt.ylabel('Loss')\n",
        "plt.legend()\n",
        "\n",
        "plt.show()\n",
        "\n",
        "plt.clf()   # clear figure\n",
        "\n",
        "plt.plot(epochs, acc, 'bo', label='Training acc')\n",
        "plt.plot(epochs, val_acc, 'b', label='Validation acc')\n",
        "plt.title('Training and validation accuracy')\n",
        "plt.xlabel('Epochs')\n",
        "plt.ylabel('Accuracy')\n",
        "plt.legend()\n",
        "\n",
        "plt.show()"
      ],
      "execution_count": null,
      "outputs": [
        {
          "output_type": "display_data",
          "data": {
            "image/png": "[encoded data removed]",
            "text/plain": [
              "<Figure size 432x288 with 1 Axes>"
            ]
          },
          "metadata": {
            "tags": []
          }
        },
        {
          "output_type": "display_data",
          "data": {
            "image/png": "[encoded data removed]",
            "text/plain": [
              "<Figure size 432x288 with 1 Axes>"
            ]
          },
          "metadata": {
            "tags": []
          }
        }
      ]
    },
    {
      "cell_type": "markdown",
      "metadata": {
        "id": "Sobst1bcaLlT"
      },
      "source": [
        "**Returns results for training set**"
      ]
    },
    {
      "cell_type": "code",
      "metadata": {
        "id": "UVSbe-77mb4y",
        "outputId": "b1080553-4250-4d91-bf4d-6976c4eb5d23",
        "colab": {
          "base_uri": "https://localhost:8080/",
          "height": 759
        }
      },
      "source": [
        "# returns results on the testing data\n",
        "results = model.evaluate(testing_data, [testing_attitude, testing_tone, testing_type])\n",
        "print(results)\n",
        "#makes a list of all the predictions\n",
        "ynew = model.predict(testing_data)[0]\n",
        "import sklearn\n",
        "ynew = [np.argmax(p) for p in ynew]\n",
        "\n",
        "\n",
        "ytrue = [np.argmax(p) for p in testing_attitude]\n",
        "print(\"ATTITUDE DATA\")\n",
        "print(sklearn.metrics.classification_report(ytrue, ynew, digits = 4))\n",
        "\n",
        "\n",
        "#makes a list of all the predictions\n",
        "ynew = model.predict(testing_data)[1]\n",
        "ynew = [np.argmax(p) for p in ynew]\n",
        "\n",
        "\n",
        "ytrue = [np.argmax(p) for p in testing_tone]\n",
        "print(\"TONE DATA\")\n",
        "print(sklearn.metrics.classification_report(ytrue, ynew, digits = 4))\n",
        "\n",
        "\n",
        "#makes a list of all the predictions\n",
        "ynew = model.predict(testing_data)[2]\n",
        "ynew = [np.argmax(p) for p in ynew]\n",
        "\n",
        "\n",
        "ytrue = [np.argmax(p) for p in testing_type]\n",
        "print(\"TYPE DATA\")\n",
        "print(sklearn.metrics.classification_report(ytrue, ynew, digits = 4))"
      ],
      "execution_count": null,
      "outputs": [
        {
          "output_type": "stream",
          "text": [
            "597/597 [==============================] - 0s 443us/step\n",
            "[3.003708174480266, 0.8841576601192979, 1.1509489963202422, 0.9686014898857679, 0.7872696822412449, 0.6750418770453039, 0.6934673372824588]\n",
            "ATTITUDE DATA\n",
            "              precision    recall  f1-score   support\n",
            "\n",
            "           0     0.7403    0.7668    0.7533       223\n",
            "           1     0.7500    0.3529    0.4800        34\n",
            "           2     0.8200    0.8441    0.8319       340\n",
            "\n",
            "    accuracy                         0.7873       597\n",
            "   macro avg     0.7701    0.6546    0.6884       597\n",
            "weighted avg     0.7862    0.7873    0.7825       597\n",
            "\n",
            "TONE DATA\n",
            "              precision    recall  f1-score   support\n",
            "\n",
            "           0     0.3824    0.3514    0.3662        74\n",
            "           1     1.0000    0.0455    0.0870        22\n",
            "           2     0.4130    0.3654    0.3878        52\n",
            "           3     0.6515    0.4943    0.5621        87\n",
            "           4     0.7542    0.8842    0.8140       354\n",
            "           5     1.0000    0.1250    0.2222         8\n",
            "\n",
            "    accuracy                         0.6750       597\n",
            "   macro avg     0.7002    0.3776    0.4065       597\n",
            "weighted avg     0.6758    0.6750    0.6500       597\n",
            "\n",
            "TYPE DATA\n",
            "              precision    recall  f1-score   support\n",
            "\n",
            "           0     0.7733    0.8059    0.7893       237\n",
            "           1     0.5000    0.6239    0.5551       109\n",
            "           2     0.0000    0.0000    0.0000        23\n",
            "           3     0.7230    0.7368    0.7299       209\n",
            "           4     0.0000    0.0000    0.0000         9\n",
            "           5     1.0000    0.1000    0.1818        10\n",
            "\n",
            "    accuracy                         0.6935       597\n",
            "   macro avg     0.4994    0.3778    0.3760       597\n",
            "weighted avg     0.6681    0.6935    0.6732       597\n",
            "\n"
          ],
          "name": "stdout"
        },
        {
          "output_type": "stream",
          "text": [
            "/usr/local/lib/python3.6/dist-packages/sklearn/metrics/_classification.py:1272: UndefinedMetricWarning: Precision and F-score are ill-defined and being set to 0.0 in labels with no predicted samples. Use `zero_division` parameter to control this behavior.\n",
            "  _warn_prf(average, modifier, msg_start, len(result))\n"
          ],
          "name": "stderr"
        }
      ]
    },
    {
      "cell_type": "markdown",
      "metadata": {
        "id": "pf0cH7AGaPc1"
      },
      "source": [
        "**Saving the predictions onto an excel file**"
      ]
    },
    {
      "cell_type": "code",
      "metadata": {
        "id": "zz4tLrGnFiL2"
      },
      "source": [
        "from xlwt import Workbook\n",
        "import xlwt\n",
        "from google.colab import files\n",
        "wb = Workbook()\n",
        "\n",
        "sheet1 = wb.add_sheet('sheet 1')\n",
        "for i in range(len(testing_attitude)):\n",
        "  sheet1.write(i+1, 0, \"Tweet \" + str(i+1))\n",
        "  sheet1.write(i+1, 1, str(ynew[i]+1))\n",
        "  sheet1.write(i+1, 2, str(testing_select_2[i]+1))\n",
        "\n",
        "wb.save('predictions.xls')\n"
      ],
      "execution_count": null,
      "outputs": []
    }
  ]
}